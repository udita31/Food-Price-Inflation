{
 "cells": [
  {
   "cell_type": "code",
   "execution_count": 1,
   "id": "dafa4aff",
   "metadata": {},
   "outputs": [],
   "source": [
    "import pandas as pd \n",
    "import matplotlib.pyplot as plt\n",
    "import seaborn as sns\n",
    "import numpy as np\n",
    "import os\n",
    "sns.set_style(\"whitegrid\")\n",
    "plt.rcParams[\"figure.figsize\"] = (12, 7)"
   ]
  },
  {
   "cell_type": "code",
   "execution_count": 2,
   "id": "84f80212",
   "metadata": {},
   "outputs": [
    {
     "name": "stdout",
     "output_type": "stream",
     "text": [
      "C:\\Users\\udita\\Food Inflation\n"
     ]
    }
   ],
   "source": [
    "print (os.getcwd())"
   ]
  },
  {
   "cell_type": "code",
   "execution_count": 3,
   "id": "2f9dfc8f",
   "metadata": {},
   "outputs": [],
   "source": [
    "df = pd.read_csv(r\"C:\\Users\\udita\\Food Inflation\\Essential_food_inflation_2024_2025.csv\")"
   ]
  },
  {
   "cell_type": "code",
   "execution_count": 5,
   "id": "969ba271",
   "metadata": {},
   "outputs": [
    {
     "data": {
      "text/html": [
       "<div>\n",
       "<style scoped>\n",
       "    .dataframe tbody tr th:only-of-type {\n",
       "        vertical-align: middle;\n",
       "    }\n",
       "\n",
       "    .dataframe tbody tr th {\n",
       "        vertical-align: top;\n",
       "    }\n",
       "\n",
       "    .dataframe thead th {\n",
       "        text-align: right;\n",
       "    }\n",
       "</style>\n",
       "<table border=\"1\" class=\"dataframe\">\n",
       "  <thead>\n",
       "    <tr style=\"text-align: right;\">\n",
       "      <th></th>\n",
       "      <th>SN NO.</th>\n",
       "      <th>PRODUCT</th>\n",
       "      <th>STATE</th>\n",
       "      <th>YEAR</th>\n",
       "      <th>PRICE</th>\n",
       "    </tr>\n",
       "  </thead>\n",
       "  <tbody>\n",
       "    <tr>\n",
       "      <th>0</th>\n",
       "      <td>1</td>\n",
       "      <td>wheat</td>\n",
       "      <td>Madhya Pradesh</td>\n",
       "      <td>2024</td>\n",
       "      <td>2590</td>\n",
       "    </tr>\n",
       "    <tr>\n",
       "      <th>1</th>\n",
       "      <td>2</td>\n",
       "      <td>wheat</td>\n",
       "      <td>Madhya Pradesh</td>\n",
       "      <td>2025</td>\n",
       "      <td>2653</td>\n",
       "    </tr>\n",
       "    <tr>\n",
       "      <th>2</th>\n",
       "      <td>3</td>\n",
       "      <td>wheat</td>\n",
       "      <td>Uttar Pradesh</td>\n",
       "      <td>2024</td>\n",
       "      <td>2360</td>\n",
       "    </tr>\n",
       "    <tr>\n",
       "      <th>3</th>\n",
       "      <td>4</td>\n",
       "      <td>wheat</td>\n",
       "      <td>Uttar Pradesh</td>\n",
       "      <td>2025</td>\n",
       "      <td>2425</td>\n",
       "    </tr>\n",
       "    <tr>\n",
       "      <th>4</th>\n",
       "      <td>5</td>\n",
       "      <td>wheat</td>\n",
       "      <td>West Bengal</td>\n",
       "      <td>2024</td>\n",
       "      <td>2500</td>\n",
       "    </tr>\n",
       "    <tr>\n",
       "      <th>...</th>\n",
       "      <td>...</td>\n",
       "      <td>...</td>\n",
       "      <td>...</td>\n",
       "      <td>...</td>\n",
       "      <td>...</td>\n",
       "    </tr>\n",
       "    <tr>\n",
       "      <th>67</th>\n",
       "      <td>68</td>\n",
       "      <td>Mustard Oil</td>\n",
       "      <td>Uttar Pradesh</td>\n",
       "      <td>2025</td>\n",
       "      <td>14480</td>\n",
       "    </tr>\n",
       "    <tr>\n",
       "      <th>68</th>\n",
       "      <td>69</td>\n",
       "      <td>Mustard Oil</td>\n",
       "      <td>West Bengal</td>\n",
       "      <td>2024</td>\n",
       "      <td>13520</td>\n",
       "    </tr>\n",
       "    <tr>\n",
       "      <th>69</th>\n",
       "      <td>70</td>\n",
       "      <td>Mustard Oil</td>\n",
       "      <td>West Bengal</td>\n",
       "      <td>2025</td>\n",
       "      <td>16200</td>\n",
       "    </tr>\n",
       "    <tr>\n",
       "      <th>70</th>\n",
       "      <td>71</td>\n",
       "      <td>Mustard Oil</td>\n",
       "      <td>Punjab</td>\n",
       "      <td>2024</td>\n",
       "      <td>13000</td>\n",
       "    </tr>\n",
       "    <tr>\n",
       "      <th>71</th>\n",
       "      <td>72</td>\n",
       "      <td>Mustard Oil</td>\n",
       "      <td>Punjab</td>\n",
       "      <td>2025</td>\n",
       "      <td>12200</td>\n",
       "    </tr>\n",
       "  </tbody>\n",
       "</table>\n",
       "<p>72 rows × 5 columns</p>\n",
       "</div>"
      ],
      "text/plain": [
       "    SN NO.      PRODUCT           STATE  YEAR  PRICE\n",
       "0        1        wheat  Madhya Pradesh  2024   2590\n",
       "1        2        wheat  Madhya Pradesh  2025   2653\n",
       "2        3        wheat   Uttar Pradesh  2024   2360\n",
       "3        4        wheat   Uttar Pradesh  2025   2425\n",
       "4        5        wheat     West Bengal  2024   2500\n",
       "..     ...          ...             ...   ...    ...\n",
       "67      68  Mustard Oil   Uttar Pradesh  2025  14480\n",
       "68      69  Mustard Oil     West Bengal  2024  13520\n",
       "69      70  Mustard Oil     West Bengal  2025  16200\n",
       "70      71  Mustard Oil          Punjab  2024  13000\n",
       "71      72  Mustard Oil          Punjab  2025  12200\n",
       "\n",
       "[72 rows x 5 columns]"
      ]
     },
     "execution_count": 5,
     "metadata": {},
     "output_type": "execute_result"
    }
   ],
   "source": [
    "df.head(72)"
   ]
  },
  {
   "cell_type": "code",
   "execution_count": 6,
   "id": "331af6f1",
   "metadata": {},
   "outputs": [],
   "source": [
    "df = df.rename(columns={'PRICE (RS/Quintal)': 'PRICE'})\n",
    "df.shape\n",
    "df.columns\n",
    "df.columns = df.columns.str.strip().str.upper()\n"
   ]
  },
  {
   "cell_type": "code",
   "execution_count": 65,
   "id": "0b72140f",
   "metadata": {},
   "outputs": [],
   "source": [
    "df.loc[49,\"PRICE\"]=7600\n",
    "df.loc[51,\"PRICE\"]=10000\n",
    "df.loc[57,\"PRICE\"]=3950\n",
    "df.loc[55,\"PRICE\"]=8250\n",
    "df.loc[31,\"PRICE\"]=15800\n",
    "df.loc[45,\"PRICE\"]=1900\n",
    "df.loc[39,\"PRICE\"]=7600\n",
    "df.loc[19,\"PRICE\"]= 1527\n",
    "df.loc[43,\"PRICE\"]= 1450\n",
    "df.loc[53,\"PRICE\"]= 18250\n",
    "df.loc[28,\"PRICE\"]= 12200\n",
    "df.loc[29,\"PRICE\"]= 12200\n",
    "df.loc[21,\"PRICE\"]= 2900\n",
    "df.loc[47,\"PRICE\"]=1400\n",
    "df.loc[38,\"PRICE\"]=1400"
   ]
  },
  {
   "cell_type": "code",
   "execution_count": 66,
   "id": "d1a0351b",
   "metadata": {},
   "outputs": [],
   "source": [
    "df.to_csv(\"Essential_food_inflation_2024_2025.csv\", index=False)\n",
    "\n"
   ]
  },
  {
   "cell_type": "code",
   "execution_count": 22,
   "id": "2eec8faf",
   "metadata": {},
   "outputs": [
    {
     "name": "stdout",
     "output_type": "stream",
     "text": [
      "    SN NO.      PRODUCT          STATE  YEAR  PRICE\n",
      "2        3        wheat  Uttar Pradesh  2024   2360\n",
      "3        4        wheat  Uttar Pradesh  2025   2425\n",
      "10      11         Rice  Uttar Pradesh  2024   3040\n",
      "11      12         Rice  Uttar Pradesh  2025   3370\n",
      "18      19        Onion  Uttar Pradesh  2024   1570\n",
      "19      20        Onion  Uttar Pradesh  2025   1527\n",
      "26      27      Tur Dal  Uttar Pradesh  2024  13900\n",
      "27      28      Tur Dal  Uttar Pradesh  2025  11150\n",
      "34      35       Tomato  Uttar Pradesh  2024   1370\n",
      "35      36       Tomato  Uttar Pradesh  2025   1300\n",
      "42      43       Potato  Uttar Pradesh  2024   1800\n",
      "43      44       Potato  Uttar Pradesh  2025   1450\n",
      "50      51       Garlic  Uttar Pradesh  2024   9900\n",
      "51      52       Garlic  Uttar Pradesh  2025  10000\n",
      "58      59        Sugar  Uttar Pradesh  2024   4130\n",
      "59      60        Sugar  Uttar Pradesh  2025   4230\n",
      "66      67  Mustard Oil  Uttar Pradesh  2024  12600\n",
      "67      68  Mustard Oil  Uttar Pradesh  2025  14480\n"
     ]
    }
   ],
   "source": [
    "UP = df[df[\"STATE\"]==\"Uttar Pradesh\"]\n",
    "UP.columns = UP.columns.str.strip().str.upper()\n",
    "print(UP)"
   ]
  },
  {
   "cell_type": "code",
   "execution_count": 25,
   "id": "3e80e6e4",
   "metadata": {},
   "outputs": [
    {
     "name": "stdout",
     "output_type": "stream",
     "text": [
      "YEAR      PRODUCT     2024     2025  Perc_Change\n",
      "0          Garlic   9900.0  10000.0     1.010101\n",
      "1     Mustard Oil  12600.0  14480.0    14.920635\n",
      "2           Onion   1570.0   1527.0    -2.738854\n",
      "3          Potato   1800.0   1450.0   -19.444444\n",
      "4            Rice   3040.0   3370.0    10.855263\n",
      "5           Sugar   4130.0   4230.0     2.421308\n",
      "6          Tomato   1370.0   1300.0    -5.109489\n",
      "7         Tur Dal  13900.0  11150.0   -19.784173\n",
      "8           wheat   2360.0   2425.0     2.754237\n"
     ]
    }
   ],
   "source": [
    "pivoted1 = UP.pivot_table(index= \"PRODUCT\",columns=\"YEAR\", values=\"PRICE\")\n",
    "\n",
    "# Step 2: Calculate percentage change\n",
    "pivoted1[\"Perc_Change\"] = ((pivoted1[2025] - pivoted1[2024]) / pivoted1[2024]) * 100\n",
    "\n",
    "print(pivoted1.reset_index())"
   ]
  },
  {
   "cell_type": "code",
   "execution_count": 36,
   "id": "b6794d07",
   "metadata": {
    "scrolled": true
   },
   "outputs": [
    {
     "name": "stdout",
     "output_type": "stream",
     "text": [
      "    SN NO.      PRODUCT           STATE  YEAR  PRICE\n",
      "0        1        wheat  Madhya Pradesh  2024   2590\n",
      "1        2        wheat  Madhya Pradesh  2025   2653\n",
      "8        9         Rice  Madhya Pradesh  2024   2439\n",
      "9       10         Rice  Madhya Pradesh  2025   2900\n",
      "16      17        Onion  Madhya Pradesh  2024   1677\n",
      "17      18        Onion  Madhya Pradesh  2025   1000\n",
      "24      25      Tur Dal  Madhya Pradesh  2024   5417\n",
      "25      26      Tur Dal  Madhya Pradesh  2025   5500\n",
      "32      33       Tomato  Madhya Pradesh  2024   1500\n",
      "33      34       Tomato  Madhya Pradesh  2025   2000\n",
      "40      41       Potato  Madhya Pradesh  2024   2000\n",
      "41      42       Potato  Madhya Pradesh  2025   1396\n",
      "48      49       Garlic  Madhya Pradesh  2024   7500\n",
      "49      50       Garlic  Madhya Pradesh  2025   7600\n",
      "56      57        Sugar  Madhya Pradesh  2024   3760\n",
      "57      58        Sugar  Madhya Pradesh  2025   3950\n",
      "64      65  Mustard Oil  Madhya Pradesh  2024  10000\n",
      "65      66  Mustard Oil  Madhya Pradesh  2025  14400\n"
     ]
    }
   ],
   "source": [
    "MP = df[df[\"STATE\"]==\"Madhya Pradesh\"]\n",
    "MP.columns = MP.columns.str.strip().str.upper()\n",
    "print(MP)"
   ]
  },
  {
   "cell_type": "code",
   "execution_count": 37,
   "id": "85841b14",
   "metadata": {},
   "outputs": [
    {
     "name": "stdout",
     "output_type": "stream",
     "text": [
      "YEAR      PRODUCT     2024     2025  Perc_Change\n",
      "0          Garlic   7500.0   7600.0     1.333333\n",
      "1     Mustard Oil  10000.0  14400.0    44.000000\n",
      "2           Onion   1677.0   1000.0   -40.369708\n",
      "3          Potato   2000.0   1396.0   -30.200000\n",
      "4            Rice   2439.0   2900.0    18.901189\n",
      "5           Sugar   3760.0   3950.0     5.053191\n",
      "6          Tomato   1500.0   2000.0    33.333333\n",
      "7         Tur Dal   5417.0   5500.0     1.532213\n",
      "8           wheat   2590.0   2653.0     2.432432\n"
     ]
    }
   ],
   "source": [
    "pivoted2 = MP.pivot_table(index= \"PRODUCT\",columns=\"YEAR\", values=\"PRICE\")\n",
    "\n",
    "# Step 2: Calculate percentage change\n",
    "pivoted2[\"Perc_Change\"] = ((pivoted2[2025] - pivoted2[2024]) / pivoted2[2024]) * 100\n",
    "\n",
    "print(pivoted2.reset_index())"
   ]
  },
  {
   "cell_type": "code",
   "execution_count": 54,
   "id": "91ee69ed",
   "metadata": {},
   "outputs": [
    {
     "name": "stdout",
     "output_type": "stream",
     "text": [
      "    SN NO.      PRODUCT        STATE  YEAR  PRICE\n",
      "4        5        wheat  West Bengal  2024   2500\n",
      "5        6        wheat  West Bengal  2025   2750\n",
      "12      13         Rice  West Bengal  2024   3300\n",
      "13      14         Rice  West Bengal  2025   4125\n",
      "20      21        Onion  West Bengal  2024   2750\n",
      "21      22        Onion  West Bengal  2025   2900\n",
      "28      29      Tur Dal  West Bengal  2024  12200\n",
      "29      30      Tur Dal  West Bengal  2025  12200\n",
      "36      37       Tomato  West Bengal  2024   3800\n",
      "37      38       Tomato  West Bengal  2025   3200\n",
      "44      45       Potato  West Bengal  2024   2260\n",
      "45      46       Potato  West Bengal  2025   1900\n",
      "52      53       Garlic  West Bengal  2024  18200\n",
      "53      54       Garlic  West Bengal  2025  18250\n",
      "60      61        Sugar  West Bengal  2024   3800\n",
      "61      62        Sugar  West Bengal  2025   4273\n",
      "68      69  Mustard Oil  West Bengal  2024  13520\n",
      "69      70  Mustard Oil  West Bengal  2025  16200\n"
     ]
    }
   ],
   "source": [
    "WB = df[df[\"STATE\"]==\"West Bengal\"]\n",
    "WB.columns = WB.columns.str.strip().str.upper()\n",
    "print(WB)"
   ]
  },
  {
   "cell_type": "code",
   "execution_count": 55,
   "id": "2b05d6ad",
   "metadata": {},
   "outputs": [
    {
     "name": "stdout",
     "output_type": "stream",
     "text": [
      "YEAR      PRODUCT     2024     2025  Perc_Change\n",
      "0          Garlic  18200.0  18250.0     0.274725\n",
      "1     Mustard Oil  13520.0  16200.0    19.822485\n",
      "2           Onion   2750.0   2900.0     5.454545\n",
      "3          Potato   2260.0   1900.0   -15.929204\n",
      "4            Rice   3300.0   4125.0    25.000000\n",
      "5           Sugar   3800.0   4273.0    12.447368\n",
      "6          Tomato   3800.0   3200.0   -15.789474\n",
      "7         Tur Dal  12200.0  12200.0     0.000000\n",
      "8           wheat   2500.0   2750.0    10.000000\n"
     ]
    }
   ],
   "source": [
    "pivoted3= WB.pivot_table(index= \"PRODUCT\",columns=\"YEAR\", values=\"PRICE\")\n",
    "\n",
    "# Step 2: Calculate percentage change\n",
    "pivoted3[\"Perc_Change\"] = ((pivoted3[2025] - pivoted3[2024]) / pivoted3[2024]) * 100\n",
    "\n",
    "print(pivoted3.reset_index())"
   ]
  },
  {
   "cell_type": "code",
   "execution_count": 67,
   "id": "98b26da0",
   "metadata": {},
   "outputs": [
    {
     "name": "stdout",
     "output_type": "stream",
     "text": [
      "    SN NO.      PRODUCT   STATE  YEAR  PRICE\n",
      "6        7        wheat  Punjab  2024   2275\n",
      "7        8        wheat  Punjab  2025   2430\n",
      "14      15         Rice  Punjab  2024   2203\n",
      "15      16         Rice  Punjab  2025   4500\n",
      "22      23        Onion  Punjab  2024   1100\n",
      "23      24        Onion  Punjab  2025   1600\n",
      "30      31      Tur Dal  Punjab  2024   6040\n",
      "31      32      Tur Dal  Punjab  2025  15800\n",
      "38      39       Tomato  Punjab  2024   1400\n",
      "39      40       Tomato  Punjab  2025   7600\n",
      "46      47       Potato  Punjab  2024   1000\n",
      "47      48       Potato  Punjab  2025   1400\n",
      "54      55       Garlic  Punjab  2024   6000\n",
      "55      56       Garlic  Punjab  2025   8250\n",
      "62      63        Sugar  Punjab  2024   4018\n",
      "63      64        Sugar  Punjab  2025   4035\n",
      "70      71  Mustard Oil  Punjab  2024  13000\n",
      "71      72  Mustard Oil  Punjab  2025  12200\n"
     ]
    }
   ],
   "source": [
    "PB = df[df[\"STATE\"]==\"Punjab\"]\n",
    "PB.columns = PB.columns.str.strip().str.upper()\n",
    "print(PB)"
   ]
  },
  {
   "cell_type": "code",
   "execution_count": 68,
   "id": "77a109b6",
   "metadata": {},
   "outputs": [
    {
     "name": "stdout",
     "output_type": "stream",
     "text": [
      "YEAR      PRODUCT     2024     2025  Perc_Change\n",
      "0          Garlic   6000.0   8250.0    37.500000\n",
      "1     Mustard Oil  13000.0  12200.0    -6.153846\n",
      "2           Onion   1100.0   1600.0    45.454545\n",
      "3          Potato   1000.0   1400.0    40.000000\n",
      "4            Rice   2203.0   4500.0   104.266909\n",
      "5           Sugar   4018.0   4035.0     0.423096\n",
      "6          Tomato   1400.0   7600.0   442.857143\n",
      "7         Tur Dal   6040.0  15800.0   161.589404\n",
      "8           wheat   2275.0   2430.0     6.813187\n"
     ]
    }
   ],
   "source": [
    "pivoted4= PB.pivot_table(index= \"PRODUCT\",columns=\"YEAR\", values=\"PRICE\")\n",
    "\n",
    "# Step 2: Calculate percentage change\n",
    "pivoted4[\"Perc_Change\"] = ((pivoted4[2025] - pivoted4[2024]) / pivoted4[2024]) * 100\n",
    "\n",
    "print(pivoted4.reset_index())"
   ]
  }
 ],
 "metadata": {
  "kernelspec": {
   "display_name": "Python 3 (ipykernel)",
   "language": "python",
   "name": "python3"
  },
  "language_info": {
   "codemirror_mode": {
    "name": "ipython",
    "version": 3
   },
   "file_extension": ".py",
   "mimetype": "text/x-python",
   "name": "python",
   "nbconvert_exporter": "python",
   "pygments_lexer": "ipython3",
   "version": "3.12.3"
  }
 },
 "nbformat": 4,
 "nbformat_minor": 5
}
